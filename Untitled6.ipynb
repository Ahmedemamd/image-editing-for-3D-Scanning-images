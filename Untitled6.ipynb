{
  "nbformat": 4,
  "nbformat_minor": 0,
  "metadata": {
    "colab": {
      "name": "Untitled6.ipynb",
      "provenance": [],
      "collapsed_sections": [],
      "authorship_tag": "ABX9TyNbqtJWTZK+JFLZzxKkkhyT",
      "include_colab_link": true
    },
    "kernelspec": {
      "name": "python3",
      "display_name": "Python 3"
    }
  },
  "cells": [
    {
      "cell_type": "markdown",
      "metadata": {
        "id": "view-in-github",
        "colab_type": "text"
      },
      "source": [
        "<a href=\"https://colab.research.google.com/github/ahmedemam576/image-editing-for-3D-Scanning-images/blob/master/Untitled6.ipynb\" target=\"_parent\"><img src=\"https://colab.research.google.com/assets/colab-badge.svg\" alt=\"Open In Colab\"/></a>"
      ]
    },
    {
      "cell_type": "markdown",
      "metadata": {
        "id": "alqUF-Whg81w",
        "colab_type": "text"
      },
      "source": [
        "## Importing the Libraries"
      ]
    },
    {
      "cell_type": "code",
      "metadata": {
        "id": "IaeVXWGWGOMQ",
        "colab_type": "code",
        "colab": {}
      },
      "source": [
        "from PIL import Image\n",
        "from PIL import ImageEnhance, ImageDraw, ImageFont\n",
        "import glob\n",
        "import os\n",
        "import sys\n",
        "import pandas as pd\n",
        "import matplotlib.pyplot as plt\n",
        "from mpl_toolkits.mplot3d import Axes3D\n"
      ],
      "execution_count": 0,
      "outputs": []
    },
    {
      "cell_type": "markdown",
      "metadata": {
        "id": "1VI5VWosg00Z",
        "colab_type": "text"
      },
      "source": [
        "## opening an Image"
      ]
    },
    {
      "cell_type": "code",
      "metadata": {
        "id": "Q3aJG-0aIlFI",
        "colab_type": "code",
        "colab": {}
      },
      "source": [
        "image1 = Image.open('/content/iamge1.jpeg')"
      ],
      "execution_count": 0,
      "outputs": []
    },
    {
      "cell_type": "markdown",
      "metadata": {
        "id": "87UX3v7rgsru",
        "colab_type": "text"
      },
      "source": [
        "##Printing File names in the directory"
      ]
    },
    {
      "cell_type": "code",
      "metadata": {
        "id": "SjebgS65N_A2",
        "colab_type": "code",
        "colab": {
          "base_uri": "https://localhost:8080/",
          "height": 104
        },
        "outputId": "84225652-f06f-4f59-8965-47dfa72a4e3b"
      },
      "source": [
        "## write the directory path between the (\"\")\n",
        "for f in os.listdir(\".\"):\n",
        "  print(f) "
      ],
      "execution_count": 31,
      "outputs": [
        {
          "output_type": "stream",
          "text": [
            ".config\n",
            "iamge1.jpeg\n",
            ".ipynb_checkpoints\n",
            "image2.jpeg\n",
            "sample_data\n"
          ],
          "name": "stdout"
        }
      ]
    },
    {
      "cell_type": "markdown",
      "metadata": {
        "id": "6j1kiTJaglQo",
        "colab_type": "text"
      },
      "source": [
        "## Editing jpeg files in a folder\n",
        "#### Saturation and Brightness"
      ]
    },
    {
      "cell_type": "code",
      "metadata": {
        "id": "uCevnBVwKnNk",
        "colab_type": "code",
        "outputId": "a9d02264-e415-4258-8b17-1f5330f2b861",
        "colab": {
          "base_uri": "https://localhost:8080/",
          "height": 69
        }
      },
      "source": [
        "\n",
        "for (i,filename) in enumerate(glob.glob('/content/*')):\n",
        "  print(filename)\n",
        "  ## filter the file type or you can filter it in the for loop by the (*) operator\n",
        "  if 'png'in filename:\n",
        "\n",
        "    Ori_image = Image.open(filename)\n",
        "    ## increasing the saturation by 40%\n",
        "    sat_image = ImageEnhance.Color(Ori_image).enhance(1.4)\n",
        "    ## Decreasing the Brightness by 20%\n",
        "    bright_image=ImageEnhance.Brightness(sat_image).enhance(0.8)\n",
        "    ## saving the image by the name edited +(i)\n",
        "    bright_image.save('{}{}{}'.format('/content/edited',i+1,'.jpg'))\n",
        "    ## adding string to picture\n",
        "\n",
        "  "
      ],
      "execution_count": 90,
      "outputs": [
        {
          "output_type": "stream",
          "text": [
            "/content/i love tina.png\n",
            "/content/1.jpeg\n",
            "/content/sample_data\n"
          ],
          "name": "stdout"
        }
      ]
    },
    {
      "cell_type": "markdown",
      "metadata": {
        "id": "ycl_ZatFgfOT",
        "colab_type": "text"
      },
      "source": [
        "### Removing jpeg files in a folder"
      ]
    },
    {
      "cell_type": "code",
      "metadata": {
        "id": "Qg8a27MKgK-Y",
        "colab_type": "code",
        "colab": {}
      },
      "source": [
        "for (i,filename) in enumerate(glob.glob('/content/*jpeg')):\n",
        "  os.remove(filename)\n",
        "    "
      ],
      "execution_count": 0,
      "outputs": []
    },
    {
      "cell_type": "markdown",
      "metadata": {
        "id": "bdxAc96woI3_",
        "colab_type": "text"
      },
      "source": [
        "## Removing jbg files in a folder"
      ]
    },
    {
      "cell_type": "code",
      "metadata": {
        "id": "Jjd08r4VoOYg",
        "colab_type": "code",
        "colab": {}
      },
      "source": [
        "for (i,filename) in enumerate(glob.glob('/content/*jpg')):\n",
        "  os.remove(filename)"
      ],
      "execution_count": 0,
      "outputs": []
    },
    {
      "cell_type": "markdown",
      "metadata": {
        "id": "2PuIghslvQoM",
        "colab_type": "text"
      },
      "source": [
        "## Adding text to pictures"
      ]
    },
    {
      "cell_type": "code",
      "metadata": {
        "id": "B85C47jQvUmH",
        "colab_type": "code",
        "colab": {
          "base_uri": "https://localhost:8080/",
          "height": 208
        },
        "outputId": "17d61a8b-f71c-4794-b2ad-b26db0240946"
      },
      "source": [
        "for (i,img) in enumerate(glob.glob('/content/*')):\n",
        "  print(img)\n",
        "  ## filter the file type or you can filter it in the for loop by the (*) operator\n",
        "  if 'png'in img:\n",
        "    img = Image.open(\"/DSC_5782.jpg\")\n",
        "    draw = ImageDraw.Draw(img)\n",
        "    # font = ImageFont.truetype(<font-file>, <font-size>)\n",
        "    ## download the font file or get its file path\n",
        "    font = ImageFont.truetype(\"/content/enervate.ttf\", 536)\n",
        "    # draw.text((x, y),\"I LOVE 3D SCANNING\",(r,g,b))\n",
        "    draw.text((0, 0),\"I love 3d SCANNING\",(255,255,255),font=font)\n",
        "    img.save('text.jpg')\n",
        "    img.save('{}{}{}'.format(\"edited\",i+1,'.jpg'))  \n",
        "    ##done = Image.open(\"/content/text.jpg\")\n",
        "    ##imgplot = plt.imshow(done)\n",
        "    ##plt.show()"
      ],
      "execution_count": 115,
      "outputs": [
        {
          "output_type": "stream",
          "text": [
            "/content/<PIL.JpegImagePlugin.JpegImageFile image mode=RGB size=4928x3264 at 0x7F684742AB70>4.jpg\n",
            "/content/<PIL.JpegImagePlugin.JpegImageFile image mode=RGB size=4928x3264 at 0x7F6847CDBD30>3.jpg\n",
            "/content/enervate.ttf\n",
            "/content/text added2.jpg\n",
            "/content/i love tina.png\n",
            "/content/1.jpeg\n",
            "/content/edited1.jpg\n",
            "/content/5.jpg\n",
            "/content/text.jpg\n",
            "/content/text added3.jpg\n",
            "/content/sample_data\n"
          ],
          "name": "stdout"
        }
      ]
    }
  ]
}